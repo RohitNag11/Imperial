{
 "cells": [
  {
   "cell_type": "markdown",
   "metadata": {},
   "source": [
    "# ME4 Machine Learning - Tutorial 3"
   ]
  },
  {
   "cell_type": "markdown",
   "metadata": {},
   "source": [
    "For simplicity, X-rays are often considered to have linear attenuation behaviour, which means that if the X-ray travels through a material a distance d, it will lose a particular fraction of its power, and if it travels through another distance d then it will lose the same fraction. This results in an exponential decay as the X-ray propagates. This is very convenient in many applications, particularly X-ray CT image generation, which relies on exactly this assumption. \n",
    "\n",
    "In practice, there is a phenomenon called ‘beam hardening’ which means that as an X-ray passes through an object, the beam becomes ‘harder’, i.e. more difficult to attenuate, so the attenuation value reduces. This means the behaviour will no longer be linear. We can try to address the challenges by finding a simple polynomial relationship, which is where regression becomes valuable."
   ]
  },
  {
   "cell_type": "code",
   "execution_count": null,
   "metadata": {},
   "outputs": [],
   "source": [
    "import sys\n",
    "# setting path\n",
    "sys.path.append('..')\n",
    "\n",
    "from helperlib import (\n",
    "    mathfunctions as hmath, \n",
    "    arrayfunctions as harray) \n",
    "\n",
    "import matplotlib.pyplot as plt\n",
    "import numpy as np\n",
    "import pandas\n",
    "from sklearn import (\n",
    "    datasets, \n",
    "    model_selection,\n",
    "    naive_bayes)\n",
    "\n",
    "np.random.seed(5)\n",
    "\n",
    "# Don't show plots inline\n",
    "%matplotlib agg"
   ]
  },
  {
   "cell_type": "code",
   "execution_count": null,
   "metadata": {},
   "outputs": [],
   "source": [
    "fig = plt.figure(figsize=(6, 6))\n",
    "grid = plt.GridSpec(2, 1)\n",
    "ax1 = fig.add_subplot(grid[0, 0])\n",
    "ax2 = fig.add_subplot(grid[1, 0], sharex=ax1)\n",
    "fig.tight_layout(pad=5.0)"
   ]
  },
  {
   "cell_type": "markdown",
   "metadata": {},
   "source": [
    "## 1. Standard linear regression"
   ]
  },
  {
   "cell_type": "markdown",
   "metadata": {},
   "source": [
    "### 1.1. Import dataset"
   ]
  },
  {
   "cell_type": "code",
   "execution_count": null,
   "metadata": {},
   "outputs": [],
   "source": [
    "df = pandas.read_csv('http://pogo.software/me4ml/xray.csv')\n",
    "\n",
    "x = np.array(df['Distance (mm)'][:]) \n",
    "y = np.array(df['Total absorption'][:])"
   ]
  }
 ],
 "metadata": {
  "kernelspec": {
   "display_name": "Python 3.10.6 ('venv': venv)",
   "language": "python",
   "name": "python3"
  },
  "language_info": {
   "name": "python",
   "version": "3.10.6"
  },
  "orig_nbformat": 4,
  "vscode": {
   "interpreter": {
    "hash": "67fc4b6a0029859e1ad986a063cc44c845b21b2cfaafecb6024bbda123c255a6"
   }
  }
 },
 "nbformat": 4,
 "nbformat_minor": 2
}
