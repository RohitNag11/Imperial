{
 "cells": [
  {
   "cell_type": "markdown",
   "metadata": {},
   "source": [
    "# ME4 Machine Learning - Tutorial 6"
   ]
  },
  {
   "cell_type": "code",
   "execution_count": null,
   "metadata": {},
   "outputs": [],
   "source": [
    "import numpy as np\n",
    "import matplotlib.pyplot as plt\n",
    "from tensorflow.keras.models import Sequential \n",
    "from tensorflow.keras.layers import Dense"
   ]
  },
  {
   "cell_type": "markdown",
   "metadata": {},
   "source": [
    "## 1. 1D function fitting"
   ]
  },
  {
   "cell_type": "markdown",
   "metadata": {},
   "source": [
    "### 1.1. Create a 1D piecewise function"
   ]
  },
  {
   "cell_type": "code",
   "execution_count": null,
   "metadata": {},
   "outputs": [],
   "source": [
    "x = np.linspace(0, 1, 200)\n",
    "\n",
    "y = x.copy()\n",
    "y[x < 0.1] = 0 # y = 0 for x < 0.1\n",
    "y[x >= 0.1] = 0.5*(x[x >= 0.1]-0.1) # add a gradient of +0.5 if x >= 0.5\n",
    "y[x >= 0.6] = 0.25-0.25/0.2*(x[x >= 0.6]-0.6) \n",
    "# ^ gradient downwards from 0.6 to 0.8 (gradient \n",
    "# calculated so that line goes from \n",
    "# (0.6, 0.25) -> (0.8, 0), i.e. joins up with the other segments)\n",
    "y[x > 0.8] = 0 #y = 0 for x > 0.8"
   ]
  },
  {
   "cell_type": "markdown",
   "metadata": {},
   "source": [
    "### 1.2. Use Keras to fit the function"
   ]
  },
  {
   "cell_type": "code",
   "execution_count": null,
   "metadata": {},
   "outputs": [],
   "source": []
  }
 ],
 "metadata": {
  "kernelspec": {
   "display_name": "Python 3.10.6 ('venv': venv)",
   "language": "python",
   "name": "python3"
  },
  "language_info": {
   "name": "python",
   "version": "3.10.6"
  },
  "orig_nbformat": 4,
  "vscode": {
   "interpreter": {
    "hash": "67fc4b6a0029859e1ad986a063cc44c845b21b2cfaafecb6024bbda123c255a6"
   }
  }
 },
 "nbformat": 4,
 "nbformat_minor": 2
}
