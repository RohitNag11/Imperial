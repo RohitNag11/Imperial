{
 "cells": [
  {
   "cell_type": "markdown",
   "metadata": {},
   "source": [
    "# ME4 Machine Learning - Tutorial 4"
   ]
  },
  {
   "cell_type": "code",
   "execution_count": 5,
   "metadata": {},
   "outputs": [],
   "source": [
    "import sys\n",
    "# setting path\n",
    "sys.path.append('..')\n",
    "\n",
    "from helperlib import (\n",
    "    mathfunctions as hmath, \n",
    "    arrayfunctions as harray) \n",
    "\n",
    "import matplotlib.pyplot as plt\n",
    "# from mpl_toolkits.mplot3d import Axes3D\n",
    "import numpy as np\n",
    "import pandas as pd\n",
    "import seaborn as sns\n",
    "# from sklearn.linear_model import LinearRegression\n",
    "# from sklearn.preprocessing import PolynomialFeatures\n",
    "\n",
    "np.random.seed(5)\n",
    "\n",
    "# Don't show plots inline\n",
    "%matplotlib agg"
   ]
  },
  {
   "cell_type": "markdown",
   "metadata": {},
   "source": [
    "## 1. Scaling"
   ]
  },
  {
   "cell_type": "code",
   "execution_count": null,
   "metadata": {},
   "outputs": [],
   "source": [
    "df = pd.read_csv('tensile_strength.csv')\n",
    "t = df['Temperature (deg C)']\n",
    "s = df['Ultimate tensile strength (Pa)']"
   ]
  },
  {
   "cell_type": "markdown",
   "metadata": {},
   "source": [
    "### 1.1. Scale Each Parameter. "
   ]
  },
  {
   "cell_type": "code",
   "execution_count": 12,
   "metadata": {},
   "outputs": [],
   "source": [
    "t_mean, t_std = np.mean(t), np.std(t)\n",
    "s_mean, s_std = np.mean(s), np.std(s)\n",
    "\n",
    "t_scale = (t - t_mean) / t_std\n",
    "s_scale = (s - s_mean) / s_std\n"
   ]
  },
  {
   "cell_type": "markdown",
   "metadata": {},
   "source": [
    "### 1.2. Plot scaled data."
   ]
  },
  {
   "cell_type": "code",
   "execution_count": 36,
   "metadata": {},
   "outputs": [
    {
     "data": {
      "image/png": "[encoded data removed]",
      "text/plain": [
       "<Figure size 640x480 with 1 Axes>"
      ]
     },
     "execution_count": 36,
     "metadata": {},
     "output_type": "execute_result"
    }
   ],
   "source": [
    "fig, ax = plt.subplots() \n",
    "plt.hist(s_scale, color='#FF000084')\n",
    "plt.hist(t_scale, color='#0095FF84')\n",
    "fig"
   ]
  },
  {
   "cell_type": "markdown",
   "metadata": {},
   "source": [
    "### 1.3 Save the Scaling Paramters\n",
    "In some cases, you may want to generate these scaling values from the training dataset then apply them to a test dataset in a different script. Therefore you need to save the scaling parameters.\n"
   ]
  },
  {
   "cell_type": "code",
   "execution_count": 37,
   "metadata": {},
   "outputs": [],
   "source": [
    "scArray = np.array([[t_mean, s_mean], [t_std, s_std]])\n",
    "np.savetxt('scaleParams.txt', scArray)"
   ]
  },
  {
   "cell_type": "markdown",
   "metadata": {},
   "source": [
    "### 1.4. Load the scaled paramaters from a txt file."
   ]
  },
  {
   "cell_type": "code",
   "execution_count": 40,
   "metadata": {},
   "outputs": [
    {
     "name": "stdout",
     "output_type": "stream",
     "text": [
      "200.6565792392117 251960970.64323512 9.800229629720286 29206384.770614292\n"
     ]
    }
   ],
   "source": [
    "[t_mean, s_mean], [t_std, s_std] = np.loadtxt('scaleParams.txt')\n",
    "print(t_mean, s_mean, t_std, s_std)"
   ]
  }
 ],
 "metadata": {
  "kernelspec": {
   "display_name": "Python 3.10.6 ('venv': venv)",
   "language": "python",
   "name": "python3"
  },
  "language_info": {
   "codemirror_mode": {
    "name": "ipython",
    "version": 3
   },
   "file_extension": ".py",
   "mimetype": "text/x-python",
   "name": "python",
   "nbconvert_exporter": "python",
   "pygments_lexer": "ipython3",
   "version": "3.10.6"
  },
  "orig_nbformat": 4,
  "vscode": {
   "interpreter": {
    "hash": "67fc4b6a0029859e1ad986a063cc44c845b21b2cfaafecb6024bbda123c255a6"
   }
  }
 },
 "nbformat": 4,
 "nbformat_minor": 2
}
