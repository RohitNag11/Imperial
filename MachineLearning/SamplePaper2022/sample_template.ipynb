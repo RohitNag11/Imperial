{
  "cells": [
    {
      "cell_type": "markdown",
      "metadata": {
        "id": "12Dhe_S-1W9L"
      },
      "source": [
        "# Q1"
      ]
    },
    {
      "cell_type": "code",
      "execution_count": 1,
      "metadata": {
        "id": "0dTzD5z11Se8"
      },
      "outputs": [],
      "source": [
        "import pandas as pd\n",
        "import numpy as np\n",
        "import matplotlib.pyplot as plt\n",
        "\n",
        "#load in the data\n",
        "df = pd.read_csv(\"s1.csv\")\n",
        "x = df['x']\n",
        "y = df['y']\n",
        "\n",
        "#Continue here...\n",
        "mean0 = np.sum(x[y==0]) / np.count_nonzero(y==0)\n",
        "mean1 = np.sum(x[y==1]) / np.count_nonzero(y==1)\n",
        "\n",
        "std0 = np.sqrt(np.sum(x[y==0]**2) / np.count_nonzero(y==0) - mean0**2)\n",
        "std1 = np.sqrt(np.sum(x[y==1]**2) / np.count_nonzero(y==1) - mean1**2)\n",
        "\n",
        "pw0 = 0.9\n",
        "pw1 = 0.1\n"
      ]
    },
    {
      "cell_type": "markdown",
      "metadata": {
        "id": "IJAdyysy1aF0"
      },
      "source": [
        "# Q2"
      ]
    },
    {
      "cell_type": "code",
      "execution_count": 1,
      "metadata": {
        "id": "xWGJEs8h1Zd7"
      },
      "outputs": [],
      "source": [
        "import pandas as pd\n",
        "import numpy as np\n",
        "import matplotlib.pyplot as plt\n",
        "\n",
        "#This function may be useful to define the sampling grid for this question\n",
        "def gen_sample_grid(npx=200, npy=200, limit=1):\n",
        "  x1line = np.linspace(-limit, limit, npx)\n",
        "  x2line = np.linspace(-limit, limit, npy)\n",
        "  x1grid, x2grid = np.meshgrid(x1line, x2line)\n",
        "  Xgrid = np.array([x1grid, x2grid]).reshape([2,npx*npy]).T\n",
        "  return Xgrid,x1line,x2line\n",
        "\n",
        "#Continue here...\n"
      ]
    },
    {
      "cell_type": "markdown",
      "metadata": {
        "id": "Orlmgczs1b8p"
      },
      "source": [
        "# Q3"
      ]
    },
    {
      "cell_type": "code",
      "execution_count": null,
      "metadata": {
        "id": "KJbpl7e8mi0u"
      },
      "outputs": [],
      "source": [
        "import pandas as pd\n",
        "import numpy as np\n",
        "import matplotlib.pyplot as plt\n",
        "\n",
        "#load in the data\n",
        "df = pd.read_csv(\"http://pogo.software/me4ml/womue/s2.csv\")\n",
        "#time values:\n",
        "t = np.array(df['x'])\n",
        "#actual data:\n",
        "sig = np.array(df['y'])\n",
        "\n",
        "#Continue here..."
      ]
    },
    {
      "cell_type": "markdown",
      "metadata": {
        "id": "jc0EDULi1dV3"
      },
      "source": [
        "# Q4"
      ]
    },
    {
      "cell_type": "code",
      "execution_count": null,
      "metadata": {
        "id": "pZ4mIIBPLlLc"
      },
      "outputs": [],
      "source": []
    },
    {
      "cell_type": "markdown",
      "metadata": {
        "id": "t2FmlLIF1gZI"
      },
      "source": [
        "# Q5"
      ]
    },
    {
      "cell_type": "markdown",
      "metadata": {
        "id": "WEtj0-Hx1izu"
      },
      "source": [
        "# Q6"
      ]
    },
    {
      "cell_type": "code",
      "execution_count": null,
      "metadata": {
        "id": "wDbZ89tmLmOv"
      },
      "outputs": [],
      "source": [
        "p1 = np.array((2/3,1/3,2/3))\n",
        "p2 = np.array((1/3,2/3,-2/3))\n",
        "\n",
        "#Continue here..."
      ]
    },
    {
      "cell_type": "markdown",
      "metadata": {
        "id": "YLXOQR1m1kW_"
      },
      "source": [
        "# Q7"
      ]
    },
    {
      "cell_type": "markdown",
      "metadata": {
        "id": "qY8TUltORQBL"
      },
      "source": [
        "(a)"
      ]
    },
    {
      "cell_type": "code",
      "execution_count": null,
      "metadata": {
        "id": "bf-gEDuGRTMn"
      },
      "outputs": [],
      "source": [
        "#(b)"
      ]
    },
    {
      "cell_type": "code",
      "execution_count": null,
      "metadata": {
        "id": "uQHSQ96RRVBR"
      },
      "outputs": [],
      "source": [
        "#(c)\n",
        "\n",
        "#load in the data\n",
        "df = pd.read_csv(\"http://pogo.software/me4ml/womue/s3.csv\")\n",
        "#time values:\n",
        "x1 = np.array(df['x1'])\n",
        "#actual data:\n",
        "x2 = np.array(df['x2'])\n",
        "\n",
        "#Continue here..."
      ]
    }
  ],
  "metadata": {
    "colab": {
      "collapsed_sections": [],
      "name": "sample_template.ipynb",
      "provenance": []
    },
    "kernelspec": {
      "display_name": "venv",
      "language": "python",
      "name": "python3"
    },
    "language_info": {
      "codemirror_mode": {
        "name": "ipython",
        "version": 3
      },
      "file_extension": ".py",
      "mimetype": "text/x-python",
      "name": "python",
      "nbconvert_exporter": "python",
      "pygments_lexer": "ipython3",
      "version": "3.10.6 (main, Aug 11 2022, 13:36:31) [Clang 13.1.6 (clang-1316.0.21.2.5)]"
    },
    "vscode": {
      "interpreter": {
        "hash": "67fc4b6a0029859e1ad986a063cc44c845b21b2cfaafecb6024bbda123c255a6"
      }
    }
  },
  "nbformat": 4,
  "nbformat_minor": 0
}
