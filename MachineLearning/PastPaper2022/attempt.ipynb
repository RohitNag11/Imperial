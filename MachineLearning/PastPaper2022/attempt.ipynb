{
  "nbformat": 4,
  "nbformat_minor": 0,
  "metadata": {
    "colab": {
      "provenance": []
    },
    "kernelspec": {
      "name": "python3",
      "display_name": "Python 3"
    },
    "language_info": {
      "name": "python"
    }
  },
  "cells": [
    {
      "cell_type": "markdown",
      "metadata": {
        "id": "mD90KyeUuCXZ"
      },
      "source": [
        "Note: through this exam you should only make use of numpy, matplotlib and pandas."
      ]
    },
    {
      "cell_type": "markdown",
      "metadata": {
        "id": "Hk5jqeTfpXWs"
      },
      "source": [
        "#Q1"
      ]
    },
    {
      "cell_type": "code",
      "metadata": {
        "id": "g0_W2aJzpNJn",
        "colab": {
          "base_uri": "https://localhost:8080/",
          "height": 299
        },
        "outputId": "8c0f9d09-b3ae-46ac-fdf6-a84e55cb78cd"
      },
      "source": [
        "import pandas as pd\n",
        "import numpy as np\n",
        "import matplotlib.pyplot as plt\n",
        "\n",
        "#load in the data\n",
        "df = pd.read_csv(\"http://pogo.software/me4ml/rjteh/d1.csv\")\n",
        "x1 = df['x1']\n",
        "x2 = df['x2']\n",
        "X = np.array([x1, x2]).T\n",
        "\n",
        "#Continue here...\n",
        "def l2(p1, p2):\n",
        "  return (p2[0] - p1[0])**2 + (p2[1] - p1[1])**2\n",
        "\n",
        "mean0, mean1 = [-1, -1], [2, 1]\n",
        "y = []\n",
        "for i in range(5):\n",
        "  y = []\n",
        "  y = np.array([int(l2(x, mean0) < l2(x, mean1)) for x in X])\n",
        "  mean0 = np.mean(X[y == 0], axis=0)\n",
        "  mean1 = np.mean(X[y == 1], axis=0)\n",
        "\n",
        "print(mean0, mean1)\n",
        "fig, ax = plt.subplots()\n",
        "ax.scatter(X[y == 0][:, 0], X[y == 0][:, 1])\n",
        "ax.scatter(X[y == 1][:, 0], X[y == 1][:, 1])"
      ],
      "execution_count": 33,
      "outputs": [
        {
          "output_type": "stream",
          "name": "stdout",
          "text": [
            "[0.80596223 1.05547495] [-1.37915101 -0.77131269]\n"
          ]
        },
        {
          "output_type": "execute_result",
          "data": {
            "text/plain": [
              "<matplotlib.collections.PathCollection at 0x7fb64228d490>"
            ]
          },
          "metadata": {},
          "execution_count": 33
        },
        {
          "output_type": "display_data",
          "data": {
            "text/plain": [
              "<Figure size 432x288 with 1 Axes>"
            ],
            "image/png": "[encoded data removed]"
          },
          "metadata": {
            "needs_background": "light"
          }
        }
      ]
    },
    {
      "cell_type": "markdown",
      "metadata": {
        "id": "OMklVmgXqRti"
      },
      "source": [
        "#Q2"
      ]
    },
    {
      "cell_type": "code",
      "metadata": {
        "id": "JP67hkyCqUeY",
        "colab": {
          "base_uri": "https://localhost:8080/",
          "height": 354
        },
        "outputId": "61dbcf93-0705-4590-992b-f28af203b20a"
      },
      "source": [
        "#This function may be useful to define the sampling grid for this question\n",
        "def gen_sample_grid(npx=200, npy=200, limit=1):\n",
        "  x1line = np.linspace(-limit, limit, npx)\n",
        "  x2line = np.linspace(-limit, limit, npy)\n",
        "  x1grid, x2grid = np.meshgrid(x1line, x2line)\n",
        "  Xgrid = np.array([x1grid, x2grid]).reshape([2,npx*npy]).T\n",
        "  return Xgrid,x1line,x2line\n",
        "\n",
        "#this function may be useful to calculate the probability density function for a given set of means and covariance\n",
        "def prob_density_2d(test_vals=np.array([[0], [0]]), mean1=0, mean2=0, covar_mat=np.array([[1, 0],[0, 1]]) ):\n",
        "  #test_vals is an m x 2 numpy array containing all the values at which to perform the calculation\n",
        "  #mean1, mean2 are the means in dimensions 1 and 2 respectively\n",
        "  #covar_mat is a 2 x 2 covariance matrix\n",
        "  #returns probability density values for each of the m values\n",
        "  return 1 / (2 * np.pi * np.sqrt(np.linalg.det(covar_mat))) * np.exp(\n",
        "    -1 / 2 * (np.matmul((test_vals-np.array((mean1,mean2)).T), np.linalg.inv(covar_mat)) \n",
        "    * (test_vals-np.array((mean1,mean2)).T)).sum(-1))\n",
        "\n",
        "df = pd.read_csv(\"http://pogo.software/me4ml/rjteh/d2.csv\")\n",
        "x1 = df['x1']\n",
        "x2 = df['x2']\n",
        "clTrue = df['y']\n",
        "\n",
        "#Continue 2(a) and 2(b) here...\n",
        "X = np.array([x1, x2]).T\n",
        "mean1 = np.mean(X[clTrue == 1], axis=0)\n",
        "mean2 = np.mean(X[clTrue == 2], axis=0)\n",
        "std1 = np.std(X[clTrue == 1], axis=0)\n",
        "std2 = np.std(X[clTrue == 2], axis=0)\n",
        "covar1 = np.array([[std1[0]**2, 0], [0, std1[1]**2]])\n",
        "covar2 = np.array([[std2[0]**2, 0], [0, std2[1]**2]])\n",
        "print(mean1, mean2)\n",
        "print(covar1, covar2)\n",
        "\n",
        "Xgrid, x1line, x2line = gen_sample_grid(200, 200, 2.5)\n",
        "p_x_w1 = prob_density_2d(Xgrid, mean1[0], mean1[1], covar1)\n",
        "p_x_w2 = prob_density_2d(Xgrid, mean2[0], mean2[1], covar2)\n",
        "p_w1 = len(clTrue[clTrue == 1]) / len(clTrue)\n",
        "p_w2 = len(clTrue[clTrue == 2]) / len(clTrue)\n",
        "p_w1_x = p_x_w1 * p_w1 / (p_x_w1 * p_w1 + p_x_w2 * p_w2)\n",
        "p_w2_x = p_x_w2 * p_w2 / (p_x_w1 * p_w1 + p_x_w2 * p_w2)\n",
        "\n",
        "fig, ax = plt.subplots()\n",
        "# plt.contourf(x1line, x2line, p_w1_x.reshape([200, 200]))\n",
        "plt.contourf(x1line, x2line, p_w2_x.reshape([200, 200]))\n",
        "ax.scatter(X[clTrue == 1][:, 0], X[clTrue == 1][:, 1])\n",
        "ax.scatter(X[clTrue == 2][:, 0], X[clTrue == 2][:, 1])\n",
        "ax.set_aspect('equal')\n",
        "plt.colorbar()"
      ],
      "execution_count": 63,
      "outputs": [
        {
          "output_type": "stream",
          "name": "stdout",
          "text": [
            "[-1.34920307 -0.75202036] [0.85157853 1.10581811]\n",
            "[[0.36348015 0.        ]\n",
            " [0.         0.35494227]] [[0.07902776 0.        ]\n",
            " [0.         0.67727456]]\n"
          ]
        },
        {
          "output_type": "execute_result",
          "data": {
            "text/plain": [
              "<matplotlib.colorbar.Colorbar at 0x7fb63f002550>"
            ]
          },
          "metadata": {},
          "execution_count": 63
        },
        {
          "output_type": "display_data",
          "data": {
            "text/plain": [
              "<Figure size 432x288 with 2 Axes>"
            ],
            "image/png": "[encoded data removed]"
          },
          "metadata": {
            "needs_background": "light"
          }
        }
      ]
    },
    {
      "cell_type": "markdown",
      "metadata": {
        "id": "ntQqcbXWs-vY"
      },
      "source": [
        "#Q2 (c)\n",
        "\n",
        "Principal components will be aligned with each axis as there is no covariance between the two datasets."
      ]
    },
    {
      "cell_type": "markdown",
      "metadata": {
        "id": "2njQEllUtHfi"
      },
      "source": [
        "#Q2 (d)\n",
        "No, as the point is much further from the training data. Therefore the normal distribution will be extrapolating into an area of very low probability.\n"
      ]
    },
    {
      "cell_type": "markdown",
      "metadata": {
        "id": "LbSIzGwetNJL"
      },
      "source": [
        "#Q3"
      ]
    },
    {
      "cell_type": "code",
      "metadata": {
        "id": "IJk1JptEtOh5",
        "colab": {
          "base_uri": "https://localhost:8080/",
          "height": 282
        },
        "outputId": "38921c48-d7f6-44f9-f1c0-c4463c1a0a76"
      },
      "source": [
        "from re import M\n",
        "df = pd.read_csv(\"http://pogo.software/me4ml/rjteh/d3.csv\")\n",
        "x = df['x']\n",
        "y = df['y']\n",
        "#Continue here...\n",
        "m = len(x)\n",
        "\n",
        "\n",
        "M00 = sum(x**2)\n",
        "M01 = sum(x * np.cos(np.pi * x))\n",
        "M02 = sum(x)\n",
        "M10 = sum(x * np.cos(np.pi * x))\n",
        "M11 = sum(np.cos(np.pi * x)**2)\n",
        "M12 = sum(np.cos(np.pi * x))\n",
        "M20 = sum(x)\n",
        "M21 = sum(np.cos(np.pi * x))\n",
        "M22 = m\n",
        "\n",
        "M = np.array([[M00, M01, M02], [M10, M11, M12], [M20, M21, M22]])\n",
        "\n",
        "Y00 = sum(x * y)\n",
        "Y10 = sum(y * np.cos(np.pi * x))\n",
        "Y20 = sum(y)\n",
        "\n",
        "Y = np.array([Y00, Y10, Y20]).T\n",
        "\n",
        "a, b, c = np.matmul(np.linalg.inv(M), Y)\n",
        "\n",
        "x_sample = np.linspace(-3, 3, 100)\n",
        "y_fit = a * x_sample + b * np.cos(np.pi * x_sample) + c\n",
        "\n",
        "fig, ax = plt.subplots()\n",
        "ax.plot(x_sample, y_fit, c='r')\n",
        "ax.scatter(x, y)"
      ],
      "execution_count": 69,
      "outputs": [
        {
          "output_type": "execute_result",
          "data": {
            "text/plain": [
              "<matplotlib.collections.PathCollection at 0x7fb63f0b3cd0>"
            ]
          },
          "metadata": {},
          "execution_count": 69
        },
        {
          "output_type": "display_data",
          "data": {
            "text/plain": [
              "<Figure size 432x288 with 1 Axes>"
            ],
            "image/png": "[encoded data removed]"
          },
          "metadata": {
            "needs_background": "light"
          }
        }
      ]
    },
    {
      "cell_type": "markdown",
      "metadata": {
        "id": "hRjcCjA3tnqJ"
      },
      "source": [
        "#Q4 (a)"
      ]
    },
    {
      "cell_type": "code",
      "metadata": {
        "id": "Sf_t8TtOtpjJ",
        "colab": {
          "base_uri": "https://localhost:8080/"
        },
        "outputId": "4de1ddca-b8a0-48da-f754-4a189280853d"
      },
      "source": [
        "#Continue here... \n",
        "#or write out as a text field if you wish.\n",
        "\n",
        "p1 = np.array([0, 0])\n",
        "p2 = np.array([0.4, 1])\n",
        "p3 = np.array([1, 0])\n",
        "\n",
        "mp1 = (p1 + p3) / 2\n",
        "mp2 = (p2 + p3) / 2\n",
        "\n",
        "m = (mp2[1] - mp1[1])/(mp2[0] - mp1[0])\n",
        "c = mp1[1] - m * mp1[0]\n",
        "print(f'y = {m}x + {c}')\n"
      ],
      "execution_count": 81,
      "outputs": [
        {
          "output_type": "stream",
          "name": "stdout",
          "text": [
            "y = 2.5000000000000004x + -1.2500000000000002\n"
          ]
        }
      ]
    },
    {
      "cell_type": "markdown",
      "metadata": {
        "id": "YrLixIUftuxs"
      },
      "source": [
        "#Q4 (b)\n",
        "\n",
        "move point (0, 0) to (0.4, 0)."
      ]
    }
  ]
}